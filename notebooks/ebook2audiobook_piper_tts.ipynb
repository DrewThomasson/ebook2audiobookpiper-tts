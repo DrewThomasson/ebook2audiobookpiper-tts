{
  "nbformat": 4,
  "nbformat_minor": 0,
  "metadata": {
    "colab": {
      "provenance": [],
      "gpuType": "T4",
      "authorship_tag": "ABX9TyPdcX1mzykv9PgMWYeHGAe8",
      "include_colab_link": true
    },
    "kernelspec": {
      "name": "python3",
      "display_name": "Python 3"
    },
    "language_info": {
      "name": "python"
    },
    "accelerator": "GPU"
  },
  "cells": [
    {
      "cell_type": "markdown",
      "metadata": {
        "id": "view-in-github",
        "colab_type": "text"
      },
      "source": [
        "<a href=\"https://colab.research.google.com/github/DrewThomasson/ebook2audiobookpiper-tts/blob/main/notebooks/ebook2audiobook_piper_tts.ipynb\" target=\"_parent\"><img src=\"https://colab.research.google.com/assets/colab-badge.svg\" alt=\"Open In Colab\"/></a>"
      ]
    },
    {
      "cell_type": "code",
      "execution_count": null,
      "metadata": {
        "id": "Q71FMgkIzwDe",
        "cellView": "form"
      },
      "outputs": [],
      "source": [
        "# @title Install Requirements and launch ebook2audiobookPipertts 🚀\n",
        "!wget -O requirements.txt https://huggingface.co/spaces/drewThomasson/ebook2audiobookpiper-tts-GPU/resolve/main/requirements.txt\n",
        "\n",
        "!pip install -r requirements.txt\n",
        "\n",
        "!sudo apt-get update\n",
        "!sudo apt-get install git nano wget unzip\n",
        "!sudo apt-get -y install libegl1\n",
        "!sudo apt-get -y install libopengl0\n",
        "!sudo apt-get -y install libxcb-cursor0\n",
        "!sudo -v && wget -nv -O- https://download.calibre-ebook.com/linux-installer.sh | sudo sh /dev/stdin\n",
        "!sudo apt-get install -y ffmpeg\n",
        "!wget -O voices.json https://huggingface.co/spaces/drewThomasson/ebook2audiobookpiper-tts-GPU/resolve/main/voices.json\n",
        "!wget -O app.py https://huggingface.co/spaces/drewThomasson/ebook2audiobookpiper-tts-GPU/resolve/main/app.py\n",
        "\n",
        "\n",
        "!python -m nltk.downloader punkt\n",
        "!python -m nltk.downloader punkt_tab\n",
        "\n",
        "\n",
        "# Read the file contents\n",
        "with open(\"app.py\", \"r\") as file:\n",
        "    lines = file.readlines()\n",
        "\n",
        "# Modify the last line if it contains 'demo.launch()'\n",
        "if lines[-1].strip() == \"demo.launch()\":\n",
        "    lines[-1] = \"demo.launch(share=True)\\n\"\n",
        "\n",
        "# Write the modified content back to the file\n",
        "with open(\"app.py\", \"w\") as file:\n",
        "    file.writelines(lines)\n",
        "\n",
        "\n",
        "!python app.py"
      ]
    },
    {
      "cell_type": "code",
      "source": [],
      "metadata": {
        "id": "HN5N-tjq9bxW"
      },
      "execution_count": null,
      "outputs": []
    }
  ]
}